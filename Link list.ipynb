{
  "nbformat": 4,
  "nbformat_minor": 0,
  "metadata": {
    "colab": {
      "provenance": [],
      "authorship_tag": "ABX9TyONCxScue0f7lS2feOXVoRn",
      "include_colab_link": true
    },
    "kernelspec": {
      "name": "python3",
      "display_name": "Python 3"
    },
    "language_info": {
      "name": "python"
    }
  },
  "cells": [
    {
      "cell_type": "markdown",
      "metadata": {
        "id": "view-in-github",
        "colab_type": "text"
      },
      "source": [
        "<a href=\"https://colab.research.google.com/github/AquinoJester/CPE-201L-CPE-2-B/blob/main/Link%20list.ipynb\" target=\"_parent\"><img src=\"https://colab.research.google.com/assets/colab-badge.svg\" alt=\"Open In Colab\"/></a>"
      ]
    },
    {
      "cell_type": "code",
      "execution_count": 4,
      "metadata": {
        "colab": {
          "base_uri": "https://localhost:8080/"
        },
        "id": "nUlYvb29la66",
        "outputId": "3d958da4-c29a-48f5-b96c-bacaf350f9f6"
      },
      "outputs": [
        {
          "output_type": "stream",
          "name": "stdout",
          "text": [
            "Original list:\n",
            "A\n",
            "B\n",
            "C\n",
            "D\n",
            "After pop:\n",
            "B\n",
            "C\n",
            "D\n"
          ]
        }
      ],
      "source": [
        "# Node class\n",
        "class Node:\n",
        "\n",
        "    # Function to initialize the node object\n",
        "    def __init__(self, data):\n",
        "        self.data = data # Assign data\n",
        "        self.next = None # Initialize\n",
        "                        # next as null\n",
        "\n",
        "# Linked List class\n",
        "class LinkedList:\n",
        "\n",
        "    # Function to initialize the Linked\n",
        "    # List object\n",
        "    def __init__(self):\n",
        "        self.head = None\n",
        "\n",
        "    def print_data(self):\n",
        "      current =self.head\n",
        "      while current:\n",
        "        print(current.data)\n",
        "        current=current.next\n",
        "\n",
        "    def is_empty(self):\n",
        "      return self.head is None\n",
        "\n",
        "    def pop(self):\n",
        "      if self.head is None:\n",
        "        return None\n",
        "      else:\n",
        "        popped = self.head.data\n",
        "        self.head = self.head.next\n",
        "        return popped\n",
        "\n",
        "\n",
        "\n",
        "if __name__=='__main__':\n",
        "# Start with the empty list\n",
        "    llist = LinkedList()\n",
        "\n",
        "    llist.head = Node(\"A\")  #object name1\n",
        "    second = Node(\"B\")        #object name2\n",
        "    third = Node(\"C\")\n",
        "    fourth = Node(\"D\")\n",
        "\n",
        "    llist.head.next = second # Link first node with second\n",
        "    second.next = third # Link second node with the third node\n",
        "    third.next = fourth #Link third to fourth\n",
        "\n",
        "    print(\"Original list:\")\n",
        "    llist.print_data()\n",
        "\n",
        "    llist.pop()\n",
        "    print(\"After pop:\")\n",
        "    llist.print_data()"
      ]
    }
  ]
}