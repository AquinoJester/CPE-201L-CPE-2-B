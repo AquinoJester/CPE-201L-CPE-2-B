{
  "nbformat": 4,
  "nbformat_minor": 0,
  "metadata": {
    "colab": {
      "provenance": [],
      "authorship_tag": "ABX9TyNBW/J6h74q8k91biArkrvV",
      "include_colab_link": true
    },
    "kernelspec": {
      "name": "python3",
      "display_name": "Python 3"
    },
    "language_info": {
      "name": "python"
    }
  },
  "cells": [
    {
      "cell_type": "markdown",
      "metadata": {
        "id": "view-in-github",
        "colab_type": "text"
      },
      "source": [
        "<a href=\"https://colab.research.google.com/github/AquinoJester/CPE-201L-CPE-2-B/blob/main/Area_of_Circle.ipynb\" target=\"_parent\"><img src=\"https://colab.research.google.com/assets/colab-badge.svg\" alt=\"Open In Colab\"/></a>"
      ]
    },
    {
      "cell_type": "code",
      "execution_count": 4,
      "metadata": {
        "colab": {
          "base_uri": "https://localhost:8080/"
        },
        "id": "FtsInoEFZhYL",
        "outputId": "19aa8c34-93d6-4074-9670-081c4b60d570"
      },
      "outputs": [
        {
          "output_type": "stream",
          "name": "stdout",
          "text": [
            "314.0\n"
          ]
        }
      ],
      "source": [
        "r = 10\n",
        "area = 3.14 * r * r\n",
        "print(area)"
      ]
    },
    {
      "cell_type": "code",
      "source": [
        "diameter = 10\n",
        "r = diameter / 5\n",
        "area = 3.14 * r * r\n",
        "print (area)"
      ],
      "metadata": {
        "colab": {
          "base_uri": "https://localhost:8080/"
        },
        "id": "QFnetk2GbBzZ",
        "outputId": "af323e17-7584-4746-8214-f998da1115aa"
      },
      "execution_count": null,
      "outputs": [
        {
          "output_type": "stream",
          "name": "stdout",
          "text": [
            "12.56\n"
          ]
        }
      ]
    }
  ]
}