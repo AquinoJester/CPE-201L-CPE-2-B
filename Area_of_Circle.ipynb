{
  "nbformat": 4,
  "nbformat_minor": 0,
  "metadata": {
    "colab": {
      "provenance": [],
      "authorship_tag": "ABX9TyMt+tIuIOYLYtW+h6pC4crP",
      "include_colab_link": true
    },
    "kernelspec": {
      "name": "python3",
      "display_name": "Python 3"
    },
    "language_info": {
      "name": "python"
    }
  },
  "cells": [
    {
      "cell_type": "markdown",
      "metadata": {
        "id": "view-in-github",
        "colab_type": "text"
      },
      "source": [
        "<a href=\"https://colab.research.google.com/github/AquinoJester/CPE-201L-CPE-2-B/blob/main/Area_of_Circle.ipynb\" target=\"_parent\"><img src=\"https://colab.research.google.com/assets/colab-badge.svg\" alt=\"Open In Colab\"/></a>"
      ]
    },
    {
      "cell_type": "code",
      "execution_count": 2,
      "metadata": {
        "colab": {
          "base_uri": "https://localhost:8080/"
        },
        "id": "FtsInoEFZhYL",
        "outputId": "91aae887-d890-4703-8673-dfe5e9ddbd11"
      },
      "outputs": [
        {
          "output_type": "stream",
          "name": "stdout",
          "text": [
            "Enter the Radius of the Circle: 10\n",
            "314.0\n"
          ]
        }
      ],
      "source": [
        "r = float(input(\"Enter the Radius of the Circle: \"))\n",
        "area = 3.14 * r * r\n",
        "print(area)"
      ]
    },
    {
      "cell_type": "code",
      "source": [
        "diameter = 10\n",
        "r = diameter / 5\n",
        "area = 3.14 * r * r\n",
        "print (area)"
      ],
      "metadata": {
        "colab": {
          "base_uri": "https://localhost:8080/"
        },
        "id": "QFnetk2GbBzZ",
        "outputId": "af323e17-7584-4746-8214-f998da1115aa"
      },
      "execution_count": 3,
      "outputs": [
        {
          "output_type": "stream",
          "name": "stdout",
          "text": [
            "12.56\n"
          ]
        }
      ]
    }
  ]
}