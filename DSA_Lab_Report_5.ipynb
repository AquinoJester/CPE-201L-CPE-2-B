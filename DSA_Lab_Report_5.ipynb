{
  "nbformat": 4,
  "nbformat_minor": 0,
  "metadata": {
    "colab": {
      "provenance": [],
      "authorship_tag": "ABX9TyMMKF5IzdIJ2hZqIbio9WDj",
      "include_colab_link": true
    },
    "kernelspec": {
      "name": "python3",
      "display_name": "Python 3"
    },
    "language_info": {
      "name": "python"
    }
  },
  "cells": [
    {
      "cell_type": "markdown",
      "metadata": {
        "id": "view-in-github",
        "colab_type": "text"
      },
      "source": [
        "<a href=\"https://colab.research.google.com/github/AquinoJester/CPE-201L-CPE-2-B/blob/main/DSA_Lab_Report_5.ipynb\" target=\"_parent\"><img src=\"https://colab.research.google.com/assets/colab-badge.svg\" alt=\"Open In Colab\"/></a>"
      ]
    },
    {
      "cell_type": "code",
      "execution_count": null,
      "metadata": {
        "colab": {
          "base_uri": "https://localhost:8080/"
        },
        "id": "IXcls_cNleE-",
        "outputId": "72e9966c-fe3d-43d7-9aa5-7e25df93f509"
      },
      "outputs": [
        {
          "output_type": "stream",
          "name": "stdout",
          "text": [
            "Array elements: [5, 7, 8, 25, 12, 13, 18, 22, 9, 14]\n",
            "\n",
            "Individual elements through indexes:\n",
            "Element at index 0: 5\n",
            "Element at index 1: 7\n",
            "Element at index 2: 8\n",
            "Element at index 3: 25\n",
            "Element at index 4: 12\n",
            "Element at index 5: 13\n",
            "Element at index 6: 18\n",
            "Element at index 7: 22\n",
            "Element at index 8: 9\n",
            "Element at index 9: 14\n",
            "\n",
            "Sum of all array elements: 133\n"
          ]
        }
      ],
      "source": [
        "array = [5, 7, 8, 25, 12, 13, 18, 22, 9, 14]\n",
        "\n",
        "print(\"Array elements:\", array)\n",
        "\n",
        "array_sum = sum(array)\n",
        "\n",
        "print(\"\\nIndividual elements through indexes:\")\n",
        "for i in range(len(array)):\n",
        "    print(f\"Element at index {i}: {array[i]}\")\n",
        "\n",
        "print(\"\\nSum of all array elements:\", array_sum)\n"
      ]
    },
    {
      "cell_type": "code",
      "source": [
        "numbers = [1, 2, 3, 4, 5, 6, 7, 8, 9, 10]\n",
        "\n",
        "print(\"Original array:\", numbers)\n",
        "\n",
        "numbers.append(11)\n",
        "\n",
        "print(\"\\nArray after appending a new item:\", numbers)\n"
      ],
      "metadata": {
        "colab": {
          "base_uri": "https://localhost:8080/"
        },
        "id": "pYPf5c-d_7xO",
        "outputId": "8a35d3f4-3ea0-4966-9b0b-408e8dfb8a5d"
      },
      "execution_count": null,
      "outputs": [
        {
          "output_type": "stream",
          "name": "stdout",
          "text": [
            "Original array: [1, 2, 3, 4, 5, 6, 7, 8, 9, 10]\n",
            "\n",
            "Array after appending a new item: [1, 2, 3, 4, 5, 6, 7, 8, 9, 10, 11]\n"
          ]
        }
      ]
    },
    {
      "cell_type": "code",
      "source": [
        "numbers = [1, 2, 3, 4, 5, 6, 7, 8, 9, 10]\n",
        "\n",
        "new_item = 100\n",
        "\n",
        "numbers.insert(1, new_item)\n",
        "\n",
        "print(\"Updated array:\", numbers)\n"
      ],
      "metadata": {
        "colab": {
          "base_uri": "https://localhost:8080/"
        },
        "id": "NglWMaWKBwH4",
        "outputId": "cc019cb1-e713-4d5c-dd42-1877fbe9bb07"
      },
      "execution_count": null,
      "outputs": [
        {
          "output_type": "stream",
          "name": "stdout",
          "text": [
            "Updated array: [1, 100, 2, 3, 4, 5, 6, 7, 8, 9, 10]\n"
          ]
        }
      ]
    },
    {
      "cell_type": "code",
      "source": [
        "numbers = [5, 4, 3, 2, 1]\n",
        "\n",
        "numbers.reverse()\n",
        "\n",
        "print(\"Reversed array:\", numbers)\n"
      ],
      "metadata": {
        "colab": {
          "base_uri": "https://localhost:8080/"
        },
        "id": "eleqRpNkFBFJ",
        "outputId": "d4639c92-0d41-4ab2-8628-179d04d1db47"
      },
      "execution_count": null,
      "outputs": [
        {
          "output_type": "stream",
          "name": "stdout",
          "text": [
            "Reversed array: [1, 2, 3, 4, 5]\n"
          ]
        }
      ]
    },
    {
      "cell_type": "code",
      "source": [
        "numbers = [5, 4, 3, 2, 1]\n",
        "\n",
        "length_of_array = len(numbers)\n",
        "\n",
        "print(\"Length of the array:\", length_of_array)\n"
      ],
      "metadata": {
        "colab": {
          "base_uri": "https://localhost:8080/"
        },
        "id": "9FxmQO85FuQ_",
        "outputId": "9d83b398-9c4b-4bd1-8015-b7a1fba6648a"
      },
      "execution_count": null,
      "outputs": [
        {
          "output_type": "stream",
          "name": "stdout",
          "text": [
            "Length of the array: 5\n"
          ]
        }
      ]
    }
  ]
}