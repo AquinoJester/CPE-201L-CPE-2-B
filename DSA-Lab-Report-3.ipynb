{
  "nbformat": 4,
  "nbformat_minor": 0,
  "metadata": {
    "colab": {
      "provenance": [],
      "authorship_tag": "ABX9TyOJi/h69U5eSqc+VrF4v8Nk",
      "include_colab_link": true
    },
    "kernelspec": {
      "name": "python3",
      "display_name": "Python 3"
    },
    "language_info": {
      "name": "python"
    }
  },
  "cells": [
    {
      "cell_type": "markdown",
      "metadata": {
        "id": "view-in-github",
        "colab_type": "text"
      },
      "source": [
        "<a href=\"https://colab.research.google.com/github/AquinoJester/CPE-201L-CPE-2-B/blob/main/DSA-Lab-Report-3.ipynb\" target=\"_parent\"><img src=\"https://colab.research.google.com/assets/colab-badge.svg\" alt=\"Open In Colab\"/></a>"
      ]
    },
    {
      "cell_type": "code",
      "execution_count": null,
      "metadata": {
        "colab": {
          "base_uri": "https://localhost:8080/"
        },
        "id": "Vp9xbXe6dipy",
        "outputId": "cc16109a-f47b-461f-dcae-baef8f97f666"
      },
      "outputs": [
        {
          "output_type": "stream",
          "name": "stdout",
          "text": [
            "Sum of even scores: 186\n"
          ]
        }
      ],
      "source": [
        "scores = [26, 49, 98, 87, 62, 75]\n",
        "\n",
        "sum_even = 0\n",
        "\n",
        "for score in scores:\n",
        "    if score % 2 == 0:\n",
        "        sum_even += score\n",
        "\n",
        "print(\"Sum of even scores:\", sum_even)\n"
      ]
    }
  ]
}