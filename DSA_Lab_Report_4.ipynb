{
  "nbformat": 4,
  "nbformat_minor": 0,
  "metadata": {
    "colab": {
      "provenance": [],
      "authorship_tag": "ABX9TyMD15+8LKf7mzxl5SbIxcE+",
      "include_colab_link": true
    },
    "kernelspec": {
      "name": "python3",
      "display_name": "Python 3"
    },
    "language_info": {
      "name": "python"
    }
  },
  "cells": [
    {
      "cell_type": "markdown",
      "metadata": {
        "id": "view-in-github",
        "colab_type": "text"
      },
      "source": [
        "<a href=\"https://colab.research.google.com/github/AquinoJester/CPE-201L-CPE-2-B/blob/main/DSA_Lab_Report_4.ipynb\" target=\"_parent\"><img src=\"https://colab.research.google.com/assets/colab-badge.svg\" alt=\"Open In Colab\"/></a>"
      ]
    },
    {
      "cell_type": "markdown",
      "source": [
        "## **Problem 1**"
      ],
      "metadata": {
        "id": "oyT3QAQzqOOE"
      }
    },
    {
      "cell_type": "code",
      "execution_count": 1,
      "metadata": {
        "colab": {
          "base_uri": "https://localhost:8080/"
        },
        "id": "GCi_unoDm6Gl",
        "outputId": "70087997-352a-4c3c-ca22-b5fece342fe4"
      },
      "outputs": [
        {
          "output_type": "stream",
          "name": "stdout",
          "text": [
            "Fruit 'Apple' created.\n",
            "Fruit 'Banana' created.\n",
            "Vegetable 'Broccoli' created.\n",
            "Vegetable 'Lettuce' created.\n",
            "\n",
            "Jenna's Grocery List:\n",
            "Apple - PHP 10 x 7 = PHP 70\n",
            "Banana - PHP 10 x 8 = PHP 80\n",
            "Broccoli - PHP 60 x 12 = PHP 720\n",
            "Lettuce - PHP 50 x 10 = PHP 500\n",
            "\n",
            "Total amount to pay: PHP 1370\n"
          ]
        }
      ],
      "source": [
        "class GroceryItem:\n",
        "    def __init__(self, name, price, quantity):\n",
        "        \"\"\"Constructor\"\"\"\n",
        "        self.name = name\n",
        "        self.price = price\n",
        "        self.quantity = quantity\n",
        "        print(f\"{self.__class__.__name__} '{self.name}' created.\")\n",
        "\n",
        "    def __del__(self):\n",
        "        \"\"\"Destructor\"\"\"\n",
        "        print(f\"{self.__class__.__name__} '{self.name}' destroyed.\")\n",
        "\n",
        "    def copy(self):\n",
        "        \"\"\"Copy constructor\"\"\"\n",
        "        return self.__class__(self.name, self.price, self.quantity)\n",
        "\n",
        "    def copy_assign(self, other):\n",
        "        \"\"\"Copy assignment operator\"\"\"\n",
        "        self.name = other.name\n",
        "        self.price = other.price\n",
        "        self.quantity = other.quantity\n",
        "\n",
        "    def calculate_sum(self):\n",
        "        return self.price * self.quantity\n",
        "\n",
        "    def display(self):\n",
        "        print(f\"{self.name} - PHP {self.price} x {self.quantity} = PHP {self.calculate_sum()}\")\n",
        "\n",
        "\n",
        "class Fruit(GroceryItem):\n",
        "    pass\n",
        "\n",
        "\n",
        "class Vegetable(GroceryItem):\n",
        "    pass\n",
        "\n",
        "\n",
        "if __name__ == \"__main__\":\n",
        "    grocery_list = [\n",
        "        Fruit(\"Apple\", 10, 7),\n",
        "        Fruit(\"Banana\", 10, 8),\n",
        "        Vegetable(\"Broccoli\", 60, 12),\n",
        "        Vegetable(\"Lettuce\", 50, 10)\n",
        "    ]\n",
        "\n",
        "    total = 0\n",
        "    print(\"\\nJenna's Grocery List:\")\n",
        "    for item in grocery_list:\n",
        "        item.display()\n",
        "        total += item.calculate_sum()\n",
        "\n",
        "    print(f\"\\nTotal amount to pay: PHP {total}\")\n"
      ]
    },
    {
      "cell_type": "markdown",
      "source": [
        "# **Problem 2**\n"
      ],
      "metadata": {
        "id": "oo24hEfbqaUt"
      }
    },
    {
      "cell_type": "code",
      "source": [
        "if __name__ == '__main__':\n",
        " grocery_list = [\n",
        "        Fruit(\"Apple\", 10, 7),\n",
        "        Fruit(\"Banana\", 10, 8),\n",
        "        Vegetable(\"Broccoli\", 60, 12),\n",
        "        Vegetable(\"Lettuce\", 50, 10)\n",
        "    ]\n",
        "\n",
        " total = 0\n",
        " print(\"\\nJenna's Grocery List:\")\n",
        " for item in grocery_list:\n",
        "        item.display()\n",
        "        total += item.calculate_sum()\n",
        "\n",
        " print(f\"\\nTotal amount to pay: PHP {total}\")"
      ],
      "metadata": {
        "colab": {
          "base_uri": "https://localhost:8080/"
        },
        "id": "AfH78nvhvfI0",
        "outputId": "44298562-5b67-430f-a980-3f7ba8578d34"
      },
      "execution_count": 6,
      "outputs": [
        {
          "output_type": "stream",
          "name": "stdout",
          "text": [
            "Fruit 'Apple' created.\n",
            "Fruit 'Banana' created.\n",
            "Vegetable 'Broccoli' created.\n",
            "Vegetable 'Lettuce' created.\n",
            "Vegetable 'Broccoli' destroyed.\n",
            "Fruit 'Banana' destroyed.\n",
            "Fruit 'Apple' destroyed.\n",
            "\n",
            "Jenna's Grocery List:\n",
            "Vegetable 'Lettuce' destroyed.\n",
            "Apple - PHP 10 x 7 = PHP 70\n",
            "Banana - PHP 10 x 8 = PHP 80\n",
            "Broccoli - PHP 60 x 12 = PHP 720\n",
            "Lettuce - PHP 50 x 10 = PHP 500\n",
            "\n",
            "Total amount to pay: PHP 1370\n"
          ]
        }
      ]
    },
    {
      "cell_type": "markdown",
      "source": [
        "# **Problem 3**"
      ],
      "metadata": {
        "id": "YhCWiUTtxplb"
      }
    },
    {
      "cell_type": "code",
      "source": [
        "def TotalSum(grocery_list):\n",
        "    total = 0\n",
        "    for name, price, quantity in grocery_list:\n",
        "        total += price * quantity\n",
        "    return total\n",
        "\n",
        "\n",
        "grocery_list = [\n",
        "    (\"Apple\", 10, 7),\n",
        "    (\"Banana\", 10, 8),\n",
        "    (\"Broccoli\", 60, 12),\n",
        "    (\"Lettuce\", 50, 10)\n",
        "]\n",
        "\n",
        "print(\"Total amount to pay: PHP\", TotalSum(grocery_list))"
      ],
      "metadata": {
        "colab": {
          "base_uri": "https://localhost:8080/"
        },
        "id": "J-jHovV6xs1M",
        "outputId": "8b782028-2bf3-4306-fa52-355596bad3ce"
      },
      "execution_count": 9,
      "outputs": [
        {
          "output_type": "stream",
          "name": "stdout",
          "text": [
            "Vegetable 'Broccoli' destroyed.\n",
            "Fruit 'Banana' destroyed.\n",
            "Fruit 'Apple' destroyed.\n",
            "Total amount to pay: PHP 1370\n"
          ]
        }
      ]
    },
    {
      "cell_type": "markdown",
      "source": [
        "# **Problem 4**"
      ],
      "metadata": {
        "id": "OhC2woHI0c8l"
      }
    },
    {
      "cell_type": "code",
      "source": [
        "grocery_list = [\n",
        "    {\"name\": \"Apple\", \"price\": 10, \"quantity\": 7},\n",
        "    {\"name\": \"Banana\", \"price\": 10, \"quantity\": 8},\n",
        "    {\"name\": \"Broccoli\", \"price\": 60, \"quantity\": 12},\n",
        "    {\"name\": \"Lettuce\", \"price\": 50, \"quantity\": 10}\n",
        "]\n",
        "\n",
        "print(\"Before deletion:\")\n",
        "for item in grocery_list:\n",
        "    print(item)\n",
        "\n",
        "for i, item in enumerate(grocery_list):\n",
        "    if item[\"name\"] == \"Lettuce\":\n",
        "        del grocery_list[i]\n",
        "        break\n",
        "\n",
        "print(\"\\nAfter deletion:\")\n",
        "for item in grocery_list:\n",
        "    print(item)\n"
      ],
      "metadata": {
        "colab": {
          "base_uri": "https://localhost:8080/"
        },
        "id": "AdoGESVb0iLU",
        "outputId": "8de85b81-d8ae-419e-c8d1-864caa969891"
      },
      "execution_count": 10,
      "outputs": [
        {
          "output_type": "stream",
          "name": "stdout",
          "text": [
            "Before deletion:\n",
            "Vegetable 'Lettuce' destroyed.\n",
            "{'name': 'Apple', 'price': 10, 'quantity': 7}\n",
            "{'name': 'Banana', 'price': 10, 'quantity': 8}\n",
            "{'name': 'Broccoli', 'price': 60, 'quantity': 12}\n",
            "{'name': 'Lettuce', 'price': 50, 'quantity': 10}\n",
            "\n",
            "After deletion:\n",
            "{'name': 'Apple', 'price': 10, 'quantity': 7}\n",
            "{'name': 'Banana', 'price': 10, 'quantity': 8}\n",
            "{'name': 'Broccoli', 'price': 60, 'quantity': 12}\n"
          ]
        }
      ]
    }
  ]
}