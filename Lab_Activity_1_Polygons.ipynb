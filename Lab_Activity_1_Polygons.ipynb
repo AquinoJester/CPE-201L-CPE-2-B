{
  "nbformat": 4,
  "nbformat_minor": 0,
  "metadata": {
    "colab": {
      "provenance": [],
      "authorship_tag": "ABX9TyOdxBLWGmLabdE7xo5wl/pH",
      "include_colab_link": true
    },
    "kernelspec": {
      "name": "python3",
      "display_name": "Python 3"
    },
    "language_info": {
      "name": "python"
    }
  },
  "cells": [
    {
      "cell_type": "markdown",
      "metadata": {
        "id": "view-in-github",
        "colab_type": "text"
      },
      "source": [
        "<a href=\"https://colab.research.google.com/github/AquinoJester/CPE-201L-CPE-2-B/blob/main/Lab_Activity_1_Polygons.ipynb\" target=\"_parent\"><img src=\"https://colab.research.google.com/assets/colab-badge.svg\" alt=\"Open In Colab\"/></a>"
      ]
    },
    {
      "cell_type": "code",
      "source": [
        "class Polygons:\n",
        "    def __init__(self, polygon_name: str, num_sides: int, polygon_area: float):\n",
        "        self._polygon_name = polygon_name\n",
        "        self._num_sides = num_sides\n",
        "        self._polygon_area = polygon_area\n",
        "\n",
        "    def update_name(self, new_name: str):\n",
        "        self._polygon_name = new_name\n",
        "\n",
        "    def update_sides(self, new_sides: int):\n",
        "        self._num_sides = new_sides\n",
        "\n",
        "    def update_area(self, new_area: float):\n",
        "        self._polygon_area = new_area\n",
        "\n",
        "    def get_name(self) -> str:\n",
        "        return self._polygon_name\n",
        "\n",
        "    def get_sides(self) -> int:\n",
        "        return self._num_sides\n",
        "\n",
        "    def get_area(self) -> float:\n",
        "        return self._polygon_area\n",
        "\n",
        "shape = Polygons(polygon_name=\"Pentagon\", num_sides=5, polygon_area=72.0)\n",
        "\n",
        "print(\"Polygon Name:\", shape.get_name())\n",
        "print(\"Number of Sides:\", shape.get_sides())\n",
        "print(\"Area:\", shape.get_area())\n"
      ],
      "metadata": {
        "colab": {
          "base_uri": "https://localhost:8080/"
        },
        "id": "JXBv1PlHBs_c",
        "outputId": "7ff1abbd-b6a2-497b-9bf7-101c0d65f8de"
      },
      "execution_count": 8,
      "outputs": [
        {
          "output_type": "stream",
          "name": "stdout",
          "text": [
            "Polygon Name: Pentagon\n",
            "Number of Sides: 5\n",
            "Area: 72.0\n"
          ]
        }
      ]
    }
  ]
}