{
  "nbformat": 4,
  "nbformat_minor": 0,
  "metadata": {
    "colab": {
      "provenance": [],
      "authorship_tag": "ABX9TyPU50VCXw09K175faTT8PEz",
      "include_colab_link": true
    },
    "kernelspec": {
      "name": "python3",
      "display_name": "Python 3"
    },
    "language_info": {
      "name": "python"
    }
  },
  "cells": [
    {
      "cell_type": "markdown",
      "metadata": {
        "id": "view-in-github",
        "colab_type": "text"
      },
      "source": [
        "<a href=\"https://colab.research.google.com/github/AquinoJester/CPE-201L-CPE-2-B/blob/main/ARRAY.ipynb\" target=\"_parent\"><img src=\"https://colab.research.google.com/assets/colab-badge.svg\" alt=\"Open In Colab\"/></a>"
      ]
    },
    {
      "cell_type": "code",
      "execution_count": null,
      "metadata": {
        "colab": {
          "base_uri": "https://localhost:8080/"
        },
        "id": "6NZWDPtomMsz",
        "outputId": "5f35840a-73b8-4748-b699-afddae414c4a"
      },
      "outputs": [
        {
          "output_type": "stream",
          "name": "stdout",
          "text": [
            "Original array: [10, 60, 30, 40, 50]\n",
            "\n",
            "Menu:\n",
            "1. Traverse array\n",
            "2. Reverse array\n",
            "3. Sort array\n",
            "4. Insert element\n",
            "5. Delete element\n",
            "6. Modify element\n",
            "7.Exit\n"
          ]
        }
      ],
      "source": [
        "def traverse_array(arr):\n",
        "    \"\"\"Function to traverse and print all elements in the array\"\"\"\n",
        "    print(\"Traversing the array:\")\n",
        "    for i, element in enumerate(arr):\n",
        "        print(f\"Index {i}: {element}\")\n",
        "def reverse(arr):\n",
        "    reversed_arr = arr[::-1]\n",
        "    print(reversed_arr)\n",
        "\n",
        "#sort()\n",
        "def sort_array(arr):\n",
        "    \"\"\"Function to sort the array\"\"\"\n",
        "    arr.sort()\n",
        "    print(\"Sorted array:\", arr)\n",
        "#insert()\n",
        "def insert_element(arr, index, new_value):\n",
        "    \"\"\"Function to insert an element in the array\"\"\"\n",
        "    if 0 <= index < len(arr):\n",
        "        arr.insert(index, new_value)\n",
        "        print(\"Element inserted:\", new_value)\n",
        "        print(arr)\n",
        "#delete()\n",
        "def delete_element(arr, index,):\n",
        "    \"\"\"Function to delete an element from the array\"\"\"\n",
        "    if 0 <= index < len(arr):\n",
        "        new_value = arr.pop(index)\n",
        "        print(\"Element deleted:\", new_value)\n",
        "        print(arr)\n",
        "#modify()\n",
        "def modify_element(arr, index, new_value):\n",
        "    \"\"\"Function to modify an element in the array\"\"\"\n",
        "    if 0 <= index < len(arr):\n",
        "        arr[index] = new_value\n",
        "        print(\"Element modified:\", new_value)\n",
        "        print (arr)\n",
        "\n",
        "def main():\n",
        "    # Initialize an array\n",
        "    arr = [10, 60, 30, 40, 50]\n",
        "    print(\"Original array:\", arr)\n",
        "\n",
        "    while True:\n",
        "        print(\"\\nMenu:\")\n",
        "        print(\"1. Traverse array\")\n",
        "        print(\"2. Reverse array\")\n",
        "        print(\"3. Sort array\")\n",
        "        print(\"4. Insert element\")\n",
        "        print(\"5. Delete element\")\n",
        "        print(\"6. Modify element\")\n",
        "        print(\"7.Exit\")\n",
        "        choice = input(\"Enter your choice (1 to 7): \")\n",
        "\n",
        "        if choice == '1':\n",
        "            print(\"Original array:\", arr)\n",
        "            traverse_array(arr)\n",
        "        elif choice == '2':\n",
        "            print(\"Original array:\", arr)\n",
        "            reverse(arr)\n",
        "        elif choice == '3':\n",
        "            print(\"Original array:\", arr)\n",
        "            sort_array(arr)\n",
        "        elif choice == '4':\n",
        "          try:\n",
        "            print(\"Original array:\", arr)\n",
        "            index = int(input(\"Enter the index to insert: \"))\n",
        "            new_value = int(input(\"Enter the new value: \"))\n",
        "            insert_element(arr, index,new_value)\n",
        "          except ValueError:\n",
        "            print(\"Invalid input. Please enter a valid index and value.\")\n",
        "        elif choice == '5':\n",
        "          try:\n",
        "            print(\"Original array:\", arr)\n",
        "            index = int(input(\"Enter the index to delete: \"))\n",
        "            delete_element(arr, index)\n",
        "          except ValueError:\n",
        "            print(\"Invalid input. Please enter a valid index.\")\n",
        "        elif choice == '6':\n",
        "          try:\n",
        "            print(\"Original array:\", arr)\n",
        "            index = int(input(\"Enter the index to modify: \"))\n",
        "            new_value = int(input(\"Enter the new value: \"))\n",
        "            modify_element(arr,index,new_value)\n",
        "          except ValueError:\n",
        "            print(\"Invalid input. Please enter a valid index and value.\")\n",
        "        elif choice == '7':\n",
        "            print(\"Exiting the program.\")\n",
        "            break\n",
        "        else:\n",
        "          print(\"Invalid choice. Please enter a number between 1 to 7.\")\n",
        "\n",
        "if __name__ == \"__main__\":\n",
        "    main()\n"
      ]
    },
    {
      "cell_type": "code",
      "source": [],
      "metadata": {
        "id": "2HQb2OJIoCoS"
      },
      "execution_count": null,
      "outputs": []
    }
  ]
}