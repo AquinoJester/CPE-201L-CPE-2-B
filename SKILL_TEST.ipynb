{
  "nbformat": 4,
  "nbformat_minor": 0,
  "metadata": {
    "colab": {
      "provenance": [],
      "authorship_tag": "ABX9TyOKfn1xWoDfzkQXso5NORqF",
      "include_colab_link": true
    },
    "kernelspec": {
      "name": "python3",
      "display_name": "Python 3"
    },
    "language_info": {
      "name": "python"
    }
  },
  "cells": [
    {
      "cell_type": "markdown",
      "metadata": {
        "id": "view-in-github",
        "colab_type": "text"
      },
      "source": [
        "<a href=\"https://colab.research.google.com/github/AquinoJester/CPE-201L-CPE-2-B/blob/main/SKILL_TEST.ipynb\" target=\"_parent\"><img src=\"https://colab.research.google.com/assets/colab-badge.svg\" alt=\"Open In Colab\"/></a>"
      ]
    },
    {
      "cell_type": "code",
      "execution_count": 16,
      "metadata": {
        "colab": {
          "base_uri": "https://localhost:8080/"
        },
        "id": "l9bdaQRe5RXL",
        "outputId": "db972ccf-da2c-45ee-9866-dd6ee2770e65"
      },
      "outputs": [
        {
          "output_type": "stream",
          "name": "stdout",
          "text": [
            "\n",
            "Full Name Traversed:\n",
            "Jester_Javid_Aquino\n",
            "Dequeue Operation Result:\n",
            "Jester_Javid_Aquino\n"
          ]
        }
      ],
      "source": [
        "class Queue:\n",
        "    def __init__(self):\n",
        "        self.queue = []\n",
        "\n",
        "    def enqueue(self, dataval):\n",
        "\n",
        "        full_name_with_underscore = dataval.replace(\" \", \"_\")\n",
        "        self.queue.insert(0, full_name_with_underscore)\n",
        "        return True\n",
        "\n",
        "    def dequeue(self):\n",
        "        if len(self.queue) > 0:\n",
        "            return self.queue.pop(0)\n",
        "        return \"No elements in Queue!\"\n",
        "\n",
        "    def display(self):\n",
        "        for char in self.queue:\n",
        "            print(char, end=\"\")\n",
        "\n",
        "my_queue = Queue()\n",
        "\n",
        "my_queue.enqueue(\"Jester Javid Aquino\")\n",
        "\n",
        "print(\"\\nFull Name Traversed:\")\n",
        "my_queue.display()\n",
        "\n",
        "print(\"\\nDequeue Operation Result:\")\n",
        "print(my_queue.dequeue())\n"
      ]
    }
  ]
}