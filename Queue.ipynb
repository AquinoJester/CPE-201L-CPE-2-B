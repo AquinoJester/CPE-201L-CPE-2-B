{
  "nbformat": 4,
  "nbformat_minor": 0,
  "metadata": {
    "colab": {
      "provenance": [],
      "authorship_tag": "ABX9TyNL0s12H6ekRwqDnzIG4XuT",
      "include_colab_link": true
    },
    "kernelspec": {
      "name": "python3",
      "display_name": "Python 3"
    },
    "language_info": {
      "name": "python"
    }
  },
  "cells": [
    {
      "cell_type": "markdown",
      "metadata": {
        "id": "view-in-github",
        "colab_type": "text"
      },
      "source": [
        "<a href=\"https://colab.research.google.com/github/AquinoJester/CPE-201L-CPE-2-B/blob/main/Queue.ipynb\" target=\"_parent\"><img src=\"https://colab.research.google.com/assets/colab-badge.svg\" alt=\"Open In Colab\"/></a>"
      ]
    },
    {
      "cell_type": "markdown",
      "source": [
        "# **EMPTY**"
      ],
      "metadata": {
        "id": "bL2tlgHnODnh"
      }
    },
    {
      "cell_type": "code",
      "source": [
        "queue = []\n",
        "max_size = 4\n",
        "\n",
        "# enqueue items into queue\n",
        "print(queue)\n",
        "\n",
        "#define empty_queue:\n",
        "#define full_queue:\n",
        "def empty_queue():\n",
        "    if len(queue) == 0:\n",
        "        print(\"Queue is empty\")\n",
        "\n",
        "def full_queue():\n",
        "    if len(queue) >= max_size:\n",
        "        print(\"Queue is full\")\n",
        "\n",
        "\n",
        "full_queue()\n",
        "empty_queue()\n",
        "\n",
        "#def Head_queue:\n",
        "#def Tail_queue\n",
        "\n",
        "# dequeue items from the queue"
      ],
      "metadata": {
        "colab": {
          "base_uri": "https://localhost:8080/"
        },
        "outputId": "6ecc04de-6204-445e-8671-f50f55814e31",
        "id": "KI24hHkUNu_L"
      },
      "execution_count": 115,
      "outputs": [
        {
          "output_type": "stream",
          "name": "stdout",
          "text": [
            "[]\n",
            "Queue is empty\n"
          ]
        }
      ]
    },
    {
      "cell_type": "markdown",
      "source": [
        "# **FULL**"
      ],
      "metadata": {
        "id": "NVxSzPJUMkFJ"
      }
    },
    {
      "cell_type": "code",
      "source": [
        "queue = []\n",
        "max_size = 4\n",
        "\n",
        "# enqueue items into queue\n",
        "queue.append('A')\n",
        "queue.append('B')\n",
        "queue.append('C')\n",
        "queue.append('D')\n",
        "print(queue)\n",
        "\n",
        "#define empty_queue:\n",
        "#define full_queue:\n",
        "def empty_queue():\n",
        "    if len(queue) == 0:\n",
        "        print(\"Queue is empty\")\n",
        "\n",
        "def full_queue():\n",
        "    if len(queue) >= max_size:\n",
        "        print(\"Queue is full\")\n",
        "\n",
        "full_queue()\n",
        "empty_queue()\n",
        "\n",
        "#def Head_queue:\n",
        "#def Tail_queue\n",
        "\n",
        "# dequeue items from the queue"
      ],
      "metadata": {
        "colab": {
          "base_uri": "https://localhost:8080/"
        },
        "id": "00_5mFfvCJCK",
        "outputId": "b5954ef6-2dc1-4c97-dc3f-c5dd1a44e36e"
      },
      "execution_count": 104,
      "outputs": [
        {
          "output_type": "stream",
          "name": "stdout",
          "text": [
            "['A', 'B', 'C', 'D']\n",
            "Queue is full\n"
          ]
        }
      ]
    },
    {
      "cell_type": "markdown",
      "source": [
        "# **HEAD and TAIL**"
      ],
      "metadata": {
        "id": "_dvknTEtMT1r"
      }
    },
    {
      "cell_type": "code",
      "source": [
        "queue = []\n",
        "max_size = 4\n",
        "\n",
        "# enqueue items into queue\n",
        "queue.append('A')\n",
        "queue.append('B')\n",
        "queue.append('C')\n",
        "queue.append('D')\n",
        "print(queue)\n",
        "\n",
        "#define empty_queue:\n",
        "#define full_queue:\n",
        "def empty_queue():\n",
        "  if len(queue) == 0:\n",
        "    print(\"Queue is empty\")\n",
        "\n",
        "def full_queue():\n",
        "    if len(queue) >= max_size:\n",
        "        print(\"Queue is full\")\n",
        "\n",
        "full_queue()\n",
        "empty_queue()\n",
        "\n",
        "#def Head_queue:\n",
        "#def Tail_queue\n",
        "def Head_queue():\n",
        "    if queue:\n",
        "        return queue[0]\n",
        "    else:\n",
        "        return None\n",
        "\n",
        "def Tail_queue():\n",
        "    if queue:\n",
        "        return queue[-1]\n",
        "    else:\n",
        "        return None\n",
        "\n",
        "# dequeue items from the queue\n",
        "\n",
        "print(\"Head of queue:\", Head_queue())\n",
        "print(\"Tail of queue:\", Tail_queue())"
      ],
      "metadata": {
        "colab": {
          "base_uri": "https://localhost:8080/"
        },
        "id": "jsIdLAmvLQzl",
        "outputId": "601ce33c-f721-4e3b-eff0-b0ec32e944bb"
      },
      "execution_count": 116,
      "outputs": [
        {
          "output_type": "stream",
          "name": "stdout",
          "text": [
            "['A', 'B', 'C', 'D']\n",
            "Queue is full\n",
            "Head of queue: A\n",
            "Tail of queue: D\n"
          ]
        }
      ]
    }
  ]
}