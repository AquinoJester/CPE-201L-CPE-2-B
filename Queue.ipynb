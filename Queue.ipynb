{
  "nbformat": 4,
  "nbformat_minor": 0,
  "metadata": {
    "colab": {
      "provenance": [],
      "authorship_tag": "ABX9TyPD0QqJSHVGMVfAKkOYfquV",
      "include_colab_link": true
    },
    "kernelspec": {
      "name": "python3",
      "display_name": "Python 3"
    },
    "language_info": {
      "name": "python"
    }
  },
  "cells": [
    {
      "cell_type": "markdown",
      "metadata": {
        "id": "view-in-github",
        "colab_type": "text"
      },
      "source": [
        "<a href=\"https://colab.research.google.com/github/AquinoJester/CPE-201L-CPE-2-B/blob/main/Queue.ipynb\" target=\"_parent\"><img src=\"https://colab.research.google.com/assets/colab-badge.svg\" alt=\"Open In Colab\"/></a>"
      ]
    },
    {
      "cell_type": "code",
      "source": [
        "queue = []\n",
        "max_size = 4\n",
        "\n",
        "# enqueue items into queue\n",
        "queue.append('A')\n",
        "queue.append('B')\n",
        "queue.append('C')\n",
        "print(queue)\n",
        "\n",
        "# Check if queue is full\n",
        "def empty_queue():\n",
        "    print(\"Queue is not full\")\n",
        "\n",
        "def full_queue():\n",
        "    if len(queue) >= max_size:\n",
        "        print(\"Queue is full\")\n",
        "\n",
        "full_queue()\n",
        "empty_queue()\n",
        "\n",
        "def Head_queue():\n",
        "    if queue:\n",
        "        return queue[0]\n",
        "    else:\n",
        "        return None\n",
        "\n",
        "def Tail_queue():\n",
        "    if queue:\n",
        "        return queue[-1]\n",
        "    else:\n",
        "        return None\n",
        "\n",
        "# dequeue items from the queue\n",
        "print(queue.pop(0))\n",
        "print(queue.pop(0))\n",
        "print(queue.pop(0))\n",
        "print(queue)\n",
        "\n",
        "print(\"Head of queue:\", Head_queue())\n",
        "print(\"Tail of queue:\", Tail_queue())\n"
      ],
      "metadata": {
        "colab": {
          "base_uri": "https://localhost:8080/"
        },
        "id": "00_5mFfvCJCK",
        "outputId": "1148db89-5fff-4602-ffac-d9ad056d5550"
      },
      "execution_count": 86,
      "outputs": [
        {
          "output_type": "stream",
          "name": "stdout",
          "text": [
            "['A', 'B', 'C']\n",
            "Queue is not full\n",
            "A\n",
            "B\n",
            "C\n",
            "[]\n",
            "Head of queue: None\n",
            "Tail of queue: None\n"
          ]
        }
      ]
    }
  ]
}